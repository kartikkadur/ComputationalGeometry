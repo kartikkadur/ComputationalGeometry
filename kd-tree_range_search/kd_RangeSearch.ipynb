{
 "cells": [
  {
   "cell_type": "markdown",
   "metadata": {},
   "source": [
    "# Range Search In kd-trees\n",
    "## Team members : \n",
    "1. Kartik Kadur\n",
    "2. Sayali Barve"
   ]
  },
  {
   "cell_type": "code",
   "execution_count": 25,
   "metadata": {},
   "outputs": [],
   "source": [
    "import matplotlib.pyplot as plt \n",
    "import numpy as np\n",
    "import math\n",
    "import random\n",
    "import kdtree\n",
    "\n",
    "from plyfile import PlyData, PlyElement"
   ]
  },
  {
   "cell_type": "markdown",
   "metadata": {},
   "source": [
    "## Read the points from the ply file."
   ]
  },
  {
   "cell_type": "code",
   "execution_count": null,
   "metadata": {},
   "outputs": [
    {
     "name": "stdout",
     "output_type": "stream",
     "text": [
      "Points : \n",
      "[(-100.0, -100.0), (-100.0, 90.0), (0.0, -100.0), (0.0, 0.0), (13.37, 8.15), (43.21, 12.34), (100.0, 100.0), (100.0, -100.0), (120.0, 20.0)]\n"
     ]
    }
   ],
   "source": [
    "plyfile = \"points_2.ply\"\n",
    "data = PlyData.read(plyfile)\n",
    "points = list(zip(data.elements[0].data[\"x\"],\\\n",
    "                          data.elements[0].data[\"y\"]))\n",
    "points = sorted(points, key=lambda x : x[0])\n",
    "print(\"Points : \\n{}\".format(points))"
   ]
  },
  {
   "cell_type": "markdown",
   "metadata": {},
   "source": [
    "## Get the center and radius of the circle"
   ]
  },
  {
   "cell_type": "code",
   "execution_count": 19,
   "metadata": {},
   "outputs": [
    {
     "name": "stdout",
     "output_type": "stream",
     "text": [
      "Center : (0.0, 100.0), Radius : 50\n"
     ]
    }
   ],
   "source": [
    "center = random.choice([(0.0, 0.0), (100.0, 0.0), (100.0, 100.0), (0.0, 100.0), (150.0, 50.0)])\n",
    "radius = random.randint(50, 200)\n",
    "print(\"Center : {}, Radius : {}\".format(center, radius))"
   ]
  },
  {
   "cell_type": "markdown",
   "metadata": {},
   "source": [
    "## Necessary methods"
   ]
  },
  {
   "cell_type": "code",
   "execution_count": 20,
   "metadata": {},
   "outputs": [],
   "source": [
    "def is_leaf(tree_node):\n",
    "    \"\"\"\n",
    "    Checks if the tree node is a leaf node or not\n",
    "    \"\"\"\n",
    "    if tree_node.left is None and tree_node.right is None:\n",
    "        return True\n",
    "    else:\n",
    "        return False\n",
    "\n",
    "def is_within_circle(point, center, radius):\n",
    "    \"\"\"\n",
    "    Checks if the tree node is with in the circle.\n",
    "    \"\"\"\n",
    "    if (point[0] - center[0])**2 + (point[1] - center[1])**2 < radius**2:\n",
    "        return True\n",
    "    else:\n",
    "        return False\n",
    "\n",
    "def distance(p1, p2):\n",
    "    \"\"\"\n",
    "    Calculates distance between two points\n",
    "    \"\"\"\n",
    "    return math.sqrt((p2[0] - p1[0])**2 + (p2[1] - p1[1])**2)"
   ]
  },
  {
   "cell_type": "markdown",
   "metadata": {},
   "source": [
    "## Nieve approach for finding the rangeß"
   ]
  },
  {
   "cell_type": "code",
   "execution_count": 21,
   "metadata": {},
   "outputs": [
    {
     "name": "stdout",
     "output_type": "stream",
     "text": [
      "Nevie Approach : \n",
      "[]\n"
     ]
    }
   ],
   "source": [
    "def neive_approach(center, radius):\n",
    "    result = []\n",
    "    for point in points:\n",
    "        if is_within_circle(point, center, radius):\n",
    "           result.append(point)\n",
    "    print(\"Nevie Approach : \\n{}\".format(result))\n",
    "neive_approach(center, radius)"
   ]
  },
  {
   "cell_type": "markdown",
   "metadata": {},
   "source": [
    "## Construct a 2d-tree from the points."
   ]
  },
  {
   "cell_type": "code",
   "execution_count": 22,
   "metadata": {},
   "outputs": [
    {
     "name": "stdout",
     "output_type": "stream",
     "text": [
      "Root Node : (13.37, 8.15)\n"
     ]
    }
   ],
   "source": [
    "class Node:\n",
    "    def __init__(self, data):\n",
    "        self.left = None\n",
    "        self.right = None\n",
    "        self.data = data\n",
    "\n",
    "\n",
    "def construct_2d_tree(points):\n",
    "    \"\"\"\n",
    "    Constructs a 2d-search tree from the points given.\n",
    "    \"\"\"\n",
    "    if not points:\n",
    "        return\n",
    "\n",
    "    mid = (len(points)) // 2\n",
    "\n",
    "    root = Node(points[mid])\n",
    "    root.left = construct_2d_tree(points[:mid])\n",
    "    root.right = construct_2d_tree(points[mid+1:])\n",
    "\n",
    "    return root\n",
    "\n",
    "root = construct_2d_tree(points)\n",
    "print(\"Root Node : {}\".format(root.data))"
   ]
  },
  {
   "cell_type": "markdown",
   "metadata": {},
   "source": [
    "## Range search 2D method"
   ]
  },
  {
   "cell_type": "code",
   "execution_count": 23,
   "metadata": {},
   "outputs": [
    {
     "name": "stdout",
     "output_type": "stream",
     "text": [
      "Nevie Approach : \n",
      "[]\n",
      "\n",
      "2d-tree range search : \n",
      "[]\n"
     ]
    }
   ],
   "source": [
    "output = []\n",
    "\n",
    "def range_search_2d(root, center, radius):\n",
    "    if root is not None:\n",
    "        if(is_within_circle(root.data, center, radius)):\n",
    "            output.append(root.data)\n",
    "        range_search_2d(root.left, center, radius)\n",
    "        range_search_2d(root.right, center, radius)\n",
    "\n",
    "range_search_2d(root, center, radius)\n",
    "\n",
    "neive_approach(center, radius)\n",
    "print()\n",
    "print(\"2d-tree range search : \\n{}\".format(sorted(output, key=lambda x:x[0])))"
   ]
  },
  {
   "cell_type": "markdown",
   "metadata": {},
   "source": [
    "## Visualization of the points"
   ]
  },
  {
   "cell_type": "code",
   "execution_count": 24,
   "metadata": {},
   "outputs": [
    {
     "name": "stdout",
     "output_type": "stream",
     "text": [
      "Center : (0.0, 100.0), Radius : 50\n"
     ]
    },
    {
     "data": {
      "image/png": "[encoded data removed]",
      "text/plain": [
       "<Figure size 432x288 with 1 Axes>"
      ]
     },
     "metadata": {
      "needs_background": "light"
     },
     "output_type": "display_data"
    }
   ],
   "source": [
    "print(\"Center : {}, Radius : {}\".format(center, radius))\n",
    "fig, ax = plt.subplots()\n",
    "X, Y = [x[0] for x in points], [x[1] for x in points]\n",
    "ax.set_xlim((min(X)-max(X), max(X)+max(X)))\n",
    "ax.set_ylim((min(Y)-max(X), max(Y)+max(X)))\n",
    "\n",
    "circle = plt.Circle(center, radius, color = \"green\", fill=False, label = \"Circle\")\n",
    "ax.scatter(X, Y, label = \"Points outside range\")\n",
    "ax.scatter(center[0], center[1], color = \"red\", label = \"Center of circle\")\n",
    "ax.scatter([x[0] for x in output], [y[1] for y in output], color = \"yellow\", label = \"Points in range\")\n",
    "ax.add_artist(circle)\n",
    "ax.legend()\n",
    "plt.show()"
   ]
  },
  {
   "cell_type": "code",
   "execution_count": null,
   "metadata": {},
   "outputs": [],
   "source": []
  }
 ],
 "metadata": {
  "kernelspec": {
   "display_name": "Python 3",
   "language": "python",
   "name": "python3"
  },
  "language_info": {
   "codemirror_mode": {
    "name": "ipython",
    "version": 3
   },
   "file_extension": ".py",
   "mimetype": "text/x-python",
   "name": "python",
   "nbconvert_exporter": "python",
   "pygments_lexer": "ipython3",
   "version": "3.7.3"
  }
 },
 "nbformat": 4,
 "nbformat_minor": 2
}
